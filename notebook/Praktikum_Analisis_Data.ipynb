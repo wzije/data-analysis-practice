{
 "cells": [
  {
   "cell_type": "markdown",
   "metadata": {},
   "source": [
    "# Praktikum Analisis Data Penjualan\n",
    "\n",
    "Modul ini mencakup praktikum dasar dan lanjutan analisis data menggunakan Python dan pandas. Dataset berupa file Feather yang telah dibersihkan.\n",
    "\n",
    "**Struktur Praktikum:**\n",
    "- Praktikum Dasar: membaca data, eksplorasi awal, distribusi, tren, dan pelanggan\n",
    "- Praktikum Lanjutan: repeat order, revenue repeat, dan prediksi\n"
   ]
  },
  {
   "cell_type": "code",
   "execution_count": null,
   "metadata": {},
   "outputs": [],
   "source": [
    "# Import pustaka yang dibutuhkan\n",
    "import pandas as pd\n",
    "import matplotlib.pyplot as plt\n",
    "import numpy as np\n",
    "from sklearn.linear_model import LinearRegression\n",
    "\n",
    "# Membaca data feather\n",
    "df = pd.read_feather(\"./data/dataset.feather\")\n",
    "df.head()"
   ]
  },
  {
   "cell_type": "code",
   "execution_count": null,
   "metadata": {},
   "outputs": [],
   "source": []
  },
  {
   "cell_type": "markdown",
   "metadata": {},
   "source": []
  },
  {
   "cell_type": "markdown",
   "metadata": {},
   "source": [
    "## Praktikum Dasar 1: Eksplorasi Awal Dataset"
   ]
  },
  {
   "cell_type": "code",
   "execution_count": null,
   "metadata": {},
   "outputs": [],
   "source": [
    "print(df.info())\n",
    "print(df.describe())"
   ]
  },
  {
   "cell_type": "markdown",
   "metadata": {},
   "source": [
    "## Praktikum Dasar 2: Distribusi Quantity Positif (tanpa outlier)"
   ]
  },
  {
   "cell_type": "code",
   "execution_count": null,
   "metadata": {},
   "outputs": [],
   "source": [
    "df_pos = df[df[\"Quantity\"] > 0]\n",
    "df_pos[\"Quantity\"].plot.box(showfliers=False, figsize=(8,6))\n",
    "plt.title(\"Distribusi Quantity Positif\")\n",
    "plt.ylabel(\"Quantity\")\n",
    "plt.show()"
   ]
  },
  {
   "cell_type": "markdown",
   "metadata": {},
   "source": [
    "## Praktikum Dasar 3: Jumlah Invoice per Bulan"
   ]
  },
  {
   "cell_type": "code",
   "execution_count": null,
   "metadata": {},
   "outputs": [],
   "source": [
    "df[\"InvoiceDate\"] = pd.to_datetime(df[\"InvoiceDate\"])\n",
    "df.set_index(\"InvoiceDate\", inplace=True)\n",
    "monthly_invoice = df[\"InvoiceNo\"].resample(\"M\").nunique()\n",
    "monthly_invoice.plot(figsize=(10,6), grid=True)\n",
    "plt.title(\"Jumlah Invoice per Bulan\")\n",
    "plt.ylabel(\"Invoice\")\n",
    "plt.show()"
   ]
  }
 ],
 "metadata": {
  "kernelspec": {
   "display_name": "Python 3",
   "language": "python",
   "name": "python3"
  },
  "language_info": {
   "name": "python",
   "version": "3.x"
  }
 },
 "nbformat": 4,
 "nbformat_minor": 2
}
